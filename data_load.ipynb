{
 "cells": [
  {
   "cell_type": "code",
   "execution_count": 2,
   "metadata": {},
   "outputs": [],
   "source": [
    "import pandas as pd\n",
    "import os\n",
    "import glob"
   ]
  },
  {
   "cell_type": "code",
   "execution_count": 3,
   "metadata": {},
   "outputs": [
    {
     "name": "stdout",
     "output_type": "stream",
     "text": [
      "<class 'pandas.core.frame.DataFrame'>\n",
      "RangeIndex: 419967 entries, 0 to 419966\n",
      "Data columns (total 15 columns):\n",
      " #   Column              Non-Null Count   Dtype \n",
      "---  ------              --------------   ----- \n",
      " 0   Season              419967 non-null  int64 \n",
      " 1   Week                419967 non-null  object\n",
      " 2   Day                 419967 non-null  object\n",
      " 3   Date                419967 non-null  object\n",
      " 4   AwayTeam            419967 non-null  object\n",
      " 5   HomeTeam            419967 non-null  object\n",
      " 6   Quarter             419967 non-null  object\n",
      " 7   DriveNumber         419967 non-null  int64 \n",
      " 8   TeamWithPossession  419439 non-null  object\n",
      " 9   IsScoringDrive      419967 non-null  int64 \n",
      " 10  PlayNumberInDrive   419967 non-null  int64 \n",
      " 11  IsScoringPlay       419967 non-null  int64 \n",
      " 12  PlayOutcome         419967 non-null  object\n",
      " 13  PlayDescription     419967 non-null  object\n",
      " 14  PlayStart           419691 non-null  object\n",
      "dtypes: int64(5), object(10)\n",
      "memory usage: 48.1+ MB\n",
      "None\n"
     ]
    }
   ],
   "source": [
    "# Combine all CSV files for the season plays folder into one file\n",
    "folder_path = '/Users/noah/Data Analysis Portfolio Projects/NFL Data Project/season_plays'\n",
    "# List to hold DataFrames\n",
    "all_data = []\n",
    "# Loop through all CSV files in the folder\n",
    "for file in glob.glob(os.path.join(folder_path, '*.csv')):\n",
    "    # Read and store each file\n",
    "    df = pd.read_csv(file)\n",
    "    # Add each DataFrame to the list\n",
    "    all_data.append(df)\n",
    "# Combine all DataFrames into one\n",
    "combined_df = pd.concat(all_data, ignore_index=True)\n",
    "# Save to a csv file\n",
    "combined_df.to_csv('season_plays/combines_season_plays.csv', index=False)\n",
    "# Show basic info about the new file\n",
    "print(combined_df.info())"
   ]
  },
  {
   "cell_type": "code",
   "execution_count": 4,
   "metadata": {},
   "outputs": [
    {
     "name": "stdout",
     "output_type": "stream",
     "text": [
      "<class 'pandas.core.frame.DataFrame'>\n",
      "RangeIndex: 419967 entries, 0 to 419966\n",
      "Data columns (total 15 columns):\n",
      " #   Column              Non-Null Count   Dtype \n",
      "---  ------              --------------   ----- \n",
      " 0   Season              419967 non-null  int64 \n",
      " 1   Week                419967 non-null  object\n",
      " 2   Day                 419967 non-null  object\n",
      " 3   Date                419967 non-null  object\n",
      " 4   AwayTeam            419967 non-null  object\n",
      " 5   HomeTeam            419967 non-null  object\n",
      " 6   Quarter             419967 non-null  object\n",
      " 7   DriveNumber         419967 non-null  int64 \n",
      " 8   TeamWithPossession  419439 non-null  object\n",
      " 9   IsScoringDrive      419967 non-null  int64 \n",
      " 10  PlayNumberInDrive   419967 non-null  int64 \n",
      " 11  IsScoringPlay       419967 non-null  int64 \n",
      " 12  PlayOutcome         419967 non-null  object\n",
      " 13  PlayDescription     419967 non-null  object\n",
      " 14  PlayStart           419691 non-null  object\n",
      "dtypes: int64(5), object(10)\n",
      "memory usage: 48.1+ MB\n",
      "None\n"
     ]
    }
   ],
   "source": [
    "root_folder = '/Users/noah/Data Analysis Portfolio Projects/NFL Data Project/season_plays_week'\n",
    "\n",
    "all_plays_week = []\n",
    "\n",
    "for season_folder in os.listdir(root_folder):\n",
    "    season_path = os.path.join(root_folder, season_folder)\n",
    "    \n",
    "    if os.path.isdir(season_path):\n",
    "        for weekly_file in os.listdir(season_path):\n",
    "            file_path = os.path.join(season_path, weekly_file)\n",
    "            \n",
    "            if file_path.endswith('.csv'):\n",
    "                df = pd.read_csv(file_path)\n",
    "                \n",
    "                all_plays_week.append(df)\n",
    "                \n",
    "combined_plays_week = pd.concat(all_data, ignore_index=True)\n",
    "combined_plays_week.to_csv('/Users/noah/Data Analysis Portfolio Projects/NFL Data Project/season_plays_week/combined_season_week_plays.csv', index=True)\n",
    "print(combined_plays_week.info())\n",
    "            \n",
    "            "
   ]
  },
  {
   "cell_type": "code",
   "execution_count": null,
   "metadata": {},
   "outputs": [],
   "source": []
  }
 ],
 "metadata": {
  "kernelspec": {
   "display_name": "Python 3",
   "language": "python",
   "name": "python3"
  },
  "language_info": {
   "codemirror_mode": {
    "name": "ipython",
    "version": 3
   },
   "file_extension": ".py",
   "mimetype": "text/x-python",
   "name": "python",
   "nbconvert_exporter": "python",
   "pygments_lexer": "ipython3",
   "version": "3.11.10"
  }
 },
 "nbformat": 4,
 "nbformat_minor": 2
}
