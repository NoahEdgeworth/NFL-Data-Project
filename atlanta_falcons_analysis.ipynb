{
 "cells": [
  {
   "cell_type": "code",
   "execution_count": 1,
   "metadata": {},
   "outputs": [],
   "source": [
    "import pandas as pd"
   ]
  },
  {
   "cell_type": "code",
   "execution_count": 4,
   "metadata": {},
   "outputs": [],
   "source": [
    "season_scores = pd.read_csv('season_scores/2024_scores.csv')\n",
    "play_by_play = pd.read_csv('season_plays/2024_plays.csv')\n"
   ]
  },
  {
   "cell_type": "code",
   "execution_count": 7,
   "metadata": {},
   "outputs": [],
   "source": [
    "# Getting just season scores for the Falcons\n",
    "atl_season_scores = season_scores[(season_scores['AwayTeam'] == 'Falcons') | (season_scores['HomeTeam'] == 'Falcons')]"
   ]
  },
  {
   "cell_type": "code",
   "execution_count": 9,
   "metadata": {},
   "outputs": [],
   "source": [
    "# Getting just play by play data for the Falcons\n",
    "atl_pbp = play_by_play[(play_by_play['AwayTeam'] == 'Falcons') | (play_by_play['HomeTeam'] == 'Falcons')]"
   ]
  },
  {
   "cell_type": "code",
   "execution_count": 14,
   "metadata": {},
   "outputs": [],
   "source": [
    "# Now lets cut out the preseason games data\n",
    "atl_season_scores = atl_season_scores[~atl_season_scores['Week'].str.contains('Preseason', case=False, na=False)]\n",
    "atl_pbp = atl_pbp[~atl_pbp['Week'].str.contains('Preseason', case=False, na=False)]\n"
   ]
  },
  {
   "cell_type": "markdown",
   "metadata": {},
   "source": [
    "Red Zone Efficiency"
   ]
  },
  {
   "cell_type": "code",
   "execution_count": 23,
   "metadata": {},
   "outputs": [
    {
     "data": {
      "text/plain": [
       "53"
      ]
     },
     "execution_count": 23,
     "metadata": {},
     "output_type": "execute_result"
    }
   ],
   "source": [
    "# Getting total number of red zone trips for the season\n",
    "\n",
    "# Step 1: Extract the yard line (everything after 'at')\n",
    "atl_pbp['YardLine'] = atl_pbp['PlayStart'].str.split('at').str[-1].str.strip()\n",
    "\n",
    "#Step 2: Extract the numeric part of the yard line (remove team abb.)\n",
    "atl_pbp['YardNumber'] = atl_pbp['YardLine'].str.extract('(\\d+)').astype(float)\n",
    "\n",
    "# Step 3: Identify if the Falcons are in the red zone\n",
    "atl_pbp['IsRedZone'] = (atl_pbp['YardNumber'] <= 20) & (atl_pbp['TeamWithPossession'] == 'ATL') & (~atl_pbp['YardLine'].str.contains('ATL'))\n",
    "\n",
    "# Step 4: Create a Unique Drive ID\n",
    "atl_pbp['UniqueDriveID'] = atl_pbp['Week'].astype(str) + '_' + atl_pbp['DriveNumber'].astype(str)\n",
    "\n",
    "#Step 5: Filter all redzone plays\n",
    "red_zone_plays = atl_pbp[atl_pbp['IsRedZone']]\n",
    "\n",
    "# Step 6: Count Unique red zone drives in 2024 season\n",
    "total_red_zone_trips = red_zone_plays['UniqueDriveID'].nunique()\n",
    "total_red_zone_trips\n"
   ]
  },
  {
   "cell_type": "code",
   "execution_count": 49,
   "metadata": {},
   "outputs": [],
   "source": [
    "# Getting total number of touchdowns, field goals, turnovers, and other insights in the red zone\n",
    "\n",
    "# Total number of plays in redzone\n",
    "total_plays_in_redzone = red_zone_plays.shape[0]\n",
    "\n",
    "# Total touchdowns in redzone\n",
    "redzone_td = red_zone_plays[red_zone_plays['PlayOutcome'].str.contains('Touchdown', case=False, na=False)]\n",
    "redzone_td_count = redzone_td.shape[0]\n",
    "\n",
    "# Total FG in redzone\n",
    "redzone_fg = red_zone_plays[red_zone_plays['PlayOutcome'].str.contains('Field Goal', case=False, na=False)]\n",
    "redzone_fg_count = redzone_fg.shape[0]\n",
    "\n",
    "# Total turnovers in redzone\n",
    "redzone_to = red_zone_plays[red_zone_plays['PlayOutcome'].str.contains('Turnover', case=False, na=False)]\n",
    "redzone_to_count = redzone_to.shape[0]\n",
    "\n",
    "# Completion Percentage in the redzone\n",
    "incomplete_pass = red_zone_plays[red_zone_plays['PlayOutcome'].str.contains('Incomplete', case=False, na=False)]\n",
    "complete_pass = red_zone_plays[red_zone_plays['PlayOutcome'].str.contains('Yard Pass')]\n",
    "incomplete_pass_count = incomplete_pass.shape[0]\n",
    "complete_pass_count = complete_pass.shape[0]\n",
    "completion_perc = round((complete_pass_count / incomplete_pass_count) * 100,2)\n",
    "\n",
    "# Total number of Run plays and Pass plays in redzone\n",
    "total_pass_plays = incomplete_pass_count + complete_pass_count\n",
    "run_plays = red_zone_plays[red_zone_plays['PlayOutcome'].str.contains('Run', case=False, na=False)]\n",
    "total_run_plays = run_plays.shape[0]\n",
    "\n",
    "# Penalties in the redzone\n",
    "penalties = red_zone_plays[red_zone_plays['PlayOutcome'].str.contains('Penalty', case=False, na=False)]\n",
    "penalty_count = penalties.shape[0]\n"
   ]
  },
  {
   "cell_type": "code",
   "execution_count": 51,
   "metadata": {},
   "outputs": [
    {
     "name": "stdout",
     "output_type": "stream",
     "text": [
      "Total trips to the Redzone: 53\n",
      "Total Plays in the Redzone: 224\n",
      "Total Touchdowns in the Redzone: 29\n",
      "Total FG made in Redzone: 14\n",
      "Total turnovers in the Redzone: 3\n",
      "Completion Percentage in the Redzeone: 80.77%\n",
      "Total pass plays in the Redzone: 47\n",
      "Total run plays in the Redzone: 74\n",
      "Penalties in the Redzone: 14\n"
     ]
    }
   ],
   "source": [
    "# Printing out all redzone info\n",
    "print(f'Total trips to the Redzone: {total_red_zone_trips}')\n",
    "print(f'Total Plays in the Redzone: {total_plays_in_redzone}')\n",
    "print(f'Total Touchdowns in the Redzone: {redzone_td_count}')\n",
    "print(f'Total FG made in Redzone: {redzone_fg_count}')\n",
    "print(f'Total turnovers in the Redzone: {redzone_to_count}')\n",
    "print(f'Completion Percentage in the Redzeone: {completion_perc}%')\n",
    "print(f'Total pass plays in the Redzone: {total_pass_plays}')\n",
    "print(f'Total run plays in the Redzone: {total_run_plays}')\n",
    "print(f'Penalties in the Redzone: {penalty_count}')"
   ]
  },
  {
   "cell_type": "code",
   "execution_count": null,
   "metadata": {},
   "outputs": [],
   "source": []
  }
 ],
 "metadata": {
  "kernelspec": {
   "display_name": "Python 3",
   "language": "python",
   "name": "python3"
  },
  "language_info": {
   "codemirror_mode": {
    "name": "ipython",
    "version": 3
   },
   "file_extension": ".py",
   "mimetype": "text/x-python",
   "name": "python",
   "nbconvert_exporter": "python",
   "pygments_lexer": "ipython3",
   "version": "3.11.10"
  }
 },
 "nbformat": 4,
 "nbformat_minor": 2
}
