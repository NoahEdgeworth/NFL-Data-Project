{
 "cells": [
  {
   "cell_type": "code",
   "execution_count": 1,
   "metadata": {},
   "outputs": [],
   "source": [
    "import pandas as pd"
   ]
  },
  {
   "cell_type": "code",
   "execution_count": 11,
   "metadata": {},
   "outputs": [],
   "source": [
    "# First lets do some quick data cleaning\n",
    "df = pd.read_csv('/Users/noah/Data Analysis Portfolio Projects/NFL Data Project/season_scores/combined_2017-2024_scores.csv')\n",
    "# Add the year to the Date Column\n",
    "df['Season'] = df['Season'].astype(str)\n",
    "df['Date'] = df['Date'] + '/' + df['Season']\n",
    "df['Season'] = df['Season'].astype(int)\n",
    "# Turn columns into correct datatype\n",
    "df['Date'] = pd.to_datetime(df['Date'])\n",
    "\n",
    "\n"
   ]
  },
  {
   "cell_type": "code",
   "execution_count": 12,
   "metadata": {},
   "outputs": [
    {
     "data": {
      "text/html": [
       "<div>\n",
       "<style scoped>\n",
       "    .dataframe tbody tr th:only-of-type {\n",
       "        vertical-align: middle;\n",
       "    }\n",
       "\n",
       "    .dataframe tbody tr th {\n",
       "        vertical-align: top;\n",
       "    }\n",
       "\n",
       "    .dataframe thead th {\n",
       "        text-align: right;\n",
       "    }\n",
       "</style>\n",
       "<table border=\"1\" class=\"dataframe\">\n",
       "  <thead>\n",
       "    <tr style=\"text-align: right;\">\n",
       "      <th></th>\n",
       "      <th>Season</th>\n",
       "      <th>Week</th>\n",
       "      <th>GameStatus</th>\n",
       "      <th>Day</th>\n",
       "      <th>Date</th>\n",
       "      <th>AwayTeam</th>\n",
       "      <th>AwayRecord</th>\n",
       "      <th>AwayScore</th>\n",
       "      <th>AwayWin</th>\n",
       "      <th>HomeTeam</th>\n",
       "      <th>HomeRecord</th>\n",
       "      <th>HomeScore</th>\n",
       "      <th>HomeWin</th>\n",
       "      <th>AwaySeeding</th>\n",
       "      <th>HomeSeeding</th>\n",
       "      <th>PostSeason</th>\n",
       "    </tr>\n",
       "  </thead>\n",
       "  <tbody>\n",
       "    <tr>\n",
       "      <th>0</th>\n",
       "      <td>2017</td>\n",
       "      <td>Hall Of Fame</td>\n",
       "      <td>FINAL</td>\n",
       "      <td>THU</td>\n",
       "      <td>2017-08-03</td>\n",
       "      <td>Cardinals</td>\n",
       "      <td>0-1</td>\n",
       "      <td>18.0</td>\n",
       "      <td>0.0</td>\n",
       "      <td>Cowboys</td>\n",
       "      <td>1-0</td>\n",
       "      <td>20.0</td>\n",
       "      <td>1.0</td>\n",
       "      <td>NaN</td>\n",
       "      <td>NaN</td>\n",
       "      <td>0</td>\n",
       "    </tr>\n",
       "    <tr>\n",
       "      <th>1</th>\n",
       "      <td>2017</td>\n",
       "      <td>Preseason Week 1</td>\n",
       "      <td>FINAL</td>\n",
       "      <td>WED</td>\n",
       "      <td>2017-08-09</td>\n",
       "      <td>Texans</td>\n",
       "      <td>0-1</td>\n",
       "      <td>17.0</td>\n",
       "      <td>0.0</td>\n",
       "      <td>Panthers</td>\n",
       "      <td>1-0</td>\n",
       "      <td>27.0</td>\n",
       "      <td>1.0</td>\n",
       "      <td>NaN</td>\n",
       "      <td>NaN</td>\n",
       "      <td>0</td>\n",
       "    </tr>\n",
       "    <tr>\n",
       "      <th>2</th>\n",
       "      <td>2017</td>\n",
       "      <td>Preseason Week 1</td>\n",
       "      <td>FINAL</td>\n",
       "      <td>THU</td>\n",
       "      <td>2017-08-10</td>\n",
       "      <td>Vikings</td>\n",
       "      <td>1-0</td>\n",
       "      <td>17.0</td>\n",
       "      <td>1.0</td>\n",
       "      <td>Bills</td>\n",
       "      <td>0-1</td>\n",
       "      <td>10.0</td>\n",
       "      <td>0.0</td>\n",
       "      <td>NaN</td>\n",
       "      <td>NaN</td>\n",
       "      <td>0</td>\n",
       "    </tr>\n",
       "    <tr>\n",
       "      <th>3</th>\n",
       "      <td>2017</td>\n",
       "      <td>Preseason Week 1</td>\n",
       "      <td>FINAL</td>\n",
       "      <td>THU</td>\n",
       "      <td>2017-08-10</td>\n",
       "      <td>Falcons</td>\n",
       "      <td>0-1</td>\n",
       "      <td>20.0</td>\n",
       "      <td>0.0</td>\n",
       "      <td>Dolphins</td>\n",
       "      <td>1-0</td>\n",
       "      <td>23.0</td>\n",
       "      <td>1.0</td>\n",
       "      <td>NaN</td>\n",
       "      <td>NaN</td>\n",
       "      <td>0</td>\n",
       "    </tr>\n",
       "    <tr>\n",
       "      <th>4</th>\n",
       "      <td>2017</td>\n",
       "      <td>Preseason Week 1</td>\n",
       "      <td>FINAL</td>\n",
       "      <td>THU</td>\n",
       "      <td>2017-08-10</td>\n",
       "      <td>Redskins</td>\n",
       "      <td>0-1</td>\n",
       "      <td>3.0</td>\n",
       "      <td>0.0</td>\n",
       "      <td>Ravens</td>\n",
       "      <td>1-0</td>\n",
       "      <td>23.0</td>\n",
       "      <td>1.0</td>\n",
       "      <td>NaN</td>\n",
       "      <td>NaN</td>\n",
       "      <td>0</td>\n",
       "    </tr>\n",
       "  </tbody>\n",
       "</table>\n",
       "</div>"
      ],
      "text/plain": [
       "   Season              Week GameStatus  Day       Date   AwayTeam AwayRecord  \\\n",
       "0    2017      Hall Of Fame      FINAL  THU 2017-08-03  Cardinals        0-1   \n",
       "1    2017  Preseason Week 1      FINAL  WED 2017-08-09     Texans        0-1   \n",
       "2    2017  Preseason Week 1      FINAL  THU 2017-08-10    Vikings        1-0   \n",
       "3    2017  Preseason Week 1      FINAL  THU 2017-08-10    Falcons        0-1   \n",
       "4    2017  Preseason Week 1      FINAL  THU 2017-08-10   Redskins        0-1   \n",
       "\n",
       "   AwayScore  AwayWin  HomeTeam HomeRecord  HomeScore  HomeWin  AwaySeeding  \\\n",
       "0       18.0      0.0   Cowboys        1-0       20.0      1.0          NaN   \n",
       "1       17.0      0.0  Panthers        1-0       27.0      1.0          NaN   \n",
       "2       17.0      1.0     Bills        0-1       10.0      0.0          NaN   \n",
       "3       20.0      0.0  Dolphins        1-0       23.0      1.0          NaN   \n",
       "4        3.0      0.0    Ravens        1-0       23.0      1.0          NaN   \n",
       "\n",
       "   HomeSeeding  PostSeason  \n",
       "0          NaN           0  \n",
       "1          NaN           0  \n",
       "2          NaN           0  \n",
       "3          NaN           0  \n",
       "4          NaN           0  "
      ]
     },
     "execution_count": 12,
     "metadata": {},
     "output_type": "execute_result"
    }
   ],
   "source": [
    "df.head()"
   ]
  },
  {
   "cell_type": "code",
   "execution_count": 25,
   "metadata": {},
   "outputs": [],
   "source": [
    "# we only want reg and post season data for this analysis\n",
    "reg_post_df = df[~df['Week'].str.contains('Preseason|Hall Of Fame', na=False)]\n"
   ]
  },
  {
   "cell_type": "markdown",
   "metadata": {},
   "source": [
    "Analyze Trends in Scoring Between Seasons"
   ]
  },
  {
   "cell_type": "markdown",
   "metadata": {},
   "source": [
    "General Trends"
   ]
  },
  {
   "cell_type": "markdown",
   "metadata": {},
   "source": [
    "1) Seasonal Scoring Trends\n",
    "    - How have average scores (home, away, and total) changed over the years?\n",
    "    - Are games generally higher-scoring in recent seasons compared to earlier ones?\n"
   ]
  },
  {
   "cell_type": "code",
   "execution_count": 26,
   "metadata": {},
   "outputs": [
    {
     "name": "stdout",
     "output_type": "stream",
     "text": [
      "   Season  avg_home_scores  avg_away_scores  avg_total_scores\n",
      "0    2017            23.11            20.53             43.64\n",
      "1    2018            24.28            22.22             46.50\n",
      "2    2019            22.93            22.87             45.80\n",
      "3    2020            24.83            24.66             49.49\n",
      "4    2021            24.06            22.11             46.17\n",
      "5    2022            23.06            20.97             44.03\n",
      "6    2023            23.36            20.44             43.80\n",
      "7    2024            23.57            21.46             45.03\n"
     ]
    }
   ],
   "source": [
    "season_avg_scores = reg_post_df.groupby('Season').agg(\n",
    "    avg_home_scores = ('HomeScore', 'mean'),\n",
    "    avg_away_scores = ('AwayScore', 'mean')\n",
    ").reset_index()\n",
    "season_avg_scores['avg_total_scores'] = season_avg_scores['avg_home_scores'] + season_avg_scores['avg_away_scores']\n",
    "season_avg_scores['avg_home_scores'] = season_avg_scores['avg_home_scores'].round(2)\n",
    "season_avg_scores['avg_away_scores'] = season_avg_scores['avg_away_scores'].round(2)\n",
    "season_avg_scores['avg_total_scores'] = season_avg_scores['avg_total_scores'].round(2)\n",
    "print(season_avg_scores)"
   ]
  },
  {
   "cell_type": "code",
   "execution_count": 29,
   "metadata": {},
   "outputs": [
    {
     "data": {
      "image/png": "[encoded data removed]",
      "text/plain": [
       "<Figure size 640x480 with 1 Axes>"
      ]
     },
     "metadata": {},
     "output_type": "display_data"
    }
   ],
   "source": [
    "import matplotlib.pyplot as plt\n",
    "import numpy as np\n",
    "\n",
    "# Bar positions\n",
    "x = np.arange(len(season_avg_scores['Season']))\n",
    "\n",
    "# Bar widths\n",
    "bar_width = 0.35\n",
    "\n",
    "# Plot bars\n",
    "plt.bar(x - bar_width/2, season_avg_scores['avg_home_scores'], width=bar_width, label='Home')\n",
    "plt.bar(x + bar_width/2, season_avg_scores['avg_away_scores'], width=bar_width, label='Away')\n",
    "\n",
    "# Add labels and title\n",
    "plt.xlabel('Season')\n",
    "plt.ylabel('Average Score')\n",
    "plt.title('Comparison of Home and Away Scores')\n",
    "plt.xticks(x, season_avg_scores['Season'], rotation=45)\n",
    "plt.legend()\n",
    "plt.tight_layout()\n",
    "plt.show()"
   ]
  },
  {
   "cell_type": "markdown",
   "metadata": {},
   "source": [
    "We can see that average scoring for both home and away teams have stayed pretty consistent throughout the years. I do want to point out that in the years 2022-2023, away teams had the lowest average scores. My hypothesis was that scoring had gone up across the league since 2017, especially with all the high powered offenses shown in the NFL now, but clearly we can see that there has not been much change."
   ]
  },
  {
   "cell_type": "markdown",
   "metadata": {},
   "source": [
    "2) Winning Scores\n",
    "\t- What is the average score for winning teams (home and away) each season?\n",
    "\t- Has the margin of victory changed over time?"
   ]
  },
  {
   "cell_type": "code",
   "execution_count": 33,
   "metadata": {},
   "outputs": [
    {
     "data": {
      "text/html": [
       "<div>\n",
       "<style scoped>\n",
       "    .dataframe tbody tr th:only-of-type {\n",
       "        vertical-align: middle;\n",
       "    }\n",
       "\n",
       "    .dataframe tbody tr th {\n",
       "        vertical-align: top;\n",
       "    }\n",
       "\n",
       "    .dataframe thead th {\n",
       "        text-align: right;\n",
       "    }\n",
       "</style>\n",
       "<table border=\"1\" class=\"dataframe\">\n",
       "  <thead>\n",
       "    <tr style=\"text-align: right;\">\n",
       "      <th></th>\n",
       "      <th>Season</th>\n",
       "      <th>HomeWinningScore</th>\n",
       "      <th>AwayWinningScore</th>\n",
       "    </tr>\n",
       "  </thead>\n",
       "  <tbody>\n",
       "    <tr>\n",
       "      <th>0</th>\n",
       "      <td>2017</td>\n",
       "      <td>28.39</td>\n",
       "      <td>26.69</td>\n",
       "    </tr>\n",
       "    <tr>\n",
       "      <th>1</th>\n",
       "      <td>2018</td>\n",
       "      <td>29.28</td>\n",
       "      <td>28.04</td>\n",
       "    </tr>\n",
       "    <tr>\n",
       "      <th>2</th>\n",
       "      <td>2019</td>\n",
       "      <td>28.51</td>\n",
       "      <td>28.91</td>\n",
       "    </tr>\n",
       "    <tr>\n",
       "      <th>3</th>\n",
       "      <td>2020</td>\n",
       "      <td>29.69</td>\n",
       "      <td>30.90</td>\n",
       "    </tr>\n",
       "    <tr>\n",
       "      <th>4</th>\n",
       "      <td>2021</td>\n",
       "      <td>30.54</td>\n",
       "      <td>27.66</td>\n",
       "    </tr>\n",
       "    <tr>\n",
       "      <th>5</th>\n",
       "      <td>2022</td>\n",
       "      <td>26.94</td>\n",
       "      <td>26.96</td>\n",
       "    </tr>\n",
       "    <tr>\n",
       "      <th>6</th>\n",
       "      <td>2023</td>\n",
       "      <td>28.06</td>\n",
       "      <td>26.89</td>\n",
       "    </tr>\n",
       "    <tr>\n",
       "      <th>7</th>\n",
       "      <td>2024</td>\n",
       "      <td>29.46</td>\n",
       "      <td>27.34</td>\n",
       "    </tr>\n",
       "  </tbody>\n",
       "</table>\n",
       "</div>"
      ],
      "text/plain": [
       "   Season  HomeWinningScore  AwayWinningScore\n",
       "0    2017             28.39             26.69\n",
       "1    2018             29.28             28.04\n",
       "2    2019             28.51             28.91\n",
       "3    2020             29.69             30.90\n",
       "4    2021             30.54             27.66\n",
       "5    2022             26.94             26.96\n",
       "6    2023             28.06             26.89\n",
       "7    2024             29.46             27.34"
      ]
     },
     "execution_count": 33,
     "metadata": {},
     "output_type": "execute_result"
    }
   ],
   "source": [
    "home_wins = reg_post_df[reg_post_df['HomeWin']==1]\n",
    "away_wins = reg_post_df[reg_post_df['AwayWin']==1]\n",
    "\n",
    "avg_home_win = home_wins.groupby('Season')['HomeScore'].mean().round(2)\n",
    "avg_away_win = away_wins.groupby('Season')['AwayScore'].mean().round(2)\n",
    "\n",
    "avg_win_df = pd.DataFrame({\n",
    "    'HomeWinningScore': avg_home_win,\n",
    "    'AwayWinningScore': avg_away_win\n",
    "}).reset_index()\n",
    "avg_win_df\n"
   ]
  },
  {
   "cell_type": "markdown",
   "metadata": {},
   "source": []
  },
  {
   "cell_type": "code",
   "execution_count": null,
   "metadata": {},
   "outputs": [],
   "source": []
  }
 ],
 "metadata": {
  "kernelspec": {
   "display_name": "Python 3",
   "language": "python",
   "name": "python3"
  },
  "language_info": {
   "codemirror_mode": {
    "name": "ipython",
    "version": 3
   },
   "file_extension": ".py",
   "mimetype": "text/x-python",
   "name": "python",
   "nbconvert_exporter": "python",
   "pygments_lexer": "ipython3",
   "version": "3.11.10"
  }
 },
 "nbformat": 4,
 "nbformat_minor": 2
}
